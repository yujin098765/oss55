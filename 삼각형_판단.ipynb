{
  "nbformat": 4,
  "nbformat_minor": 0,
  "metadata": {
    "colab": {
      "provenance": [],
      "authorship_tag": "ABX9TyMQufULpy6wWvpkacsAZlGj",
      "include_colab_link": true
    },
    "kernelspec": {
      "name": "python3",
      "display_name": "Python 3"
    },
    "language_info": {
      "name": "python"
    }
  },
  "cells": [
    {
      "cell_type": "markdown",
      "metadata": {
        "id": "view-in-github",
        "colab_type": "text"
      },
      "source": [
        "<a href=\"https://colab.research.google.com/github/yujin098765/oss55/blob/main/%EC%82%BC%EA%B0%81%ED%98%95_%ED%8C%90%EB%8B%A8.ipynb\" target=\"_parent\"><img src=\"https://colab.research.google.com/assets/colab-badge.svg\" alt=\"Open In Colab\"/></a>"
      ]
    },
    {
      "cell_type": "code",
      "execution_count": null,
      "metadata": {
        "id": "ym6ZU8XQKkDG"
      },
      "outputs": [],
      "source": []
    },
    {
      "cell_type": "markdown",
      "source": [
        "# 삼각형 판단하기\n",
        "\n",
        "본 수업은 **삼각형의 세변의 길이**를 받아서 어떠한 삼각형인지를 알려주는 프로그램 개발함.3개의 입력 받을거임."
      ],
      "metadata": {
        "id": "3uDJUy46KtXn"
      }
    },
    {
      "cell_type": "code",
      "source": [
        "a = 102  # @param {type: \"number\"}\n",
        "b = 25  # @param {type: \"number\"}\n",
        "c = 10  # @param {type: \"number\"}\n",
        "date = '2010-11-24'  # @param {type: \"date\"}\n",
        "pick_me = \"monday\"  # @param ['monday', 'tuesday', 'wednesday', 'thursday']\n",
        "select_or_input = \"apples\" # @param [\"apples\", \"bananas\", \"oranges\"] {allow-input: true}\n",
        "# @markdown ---"
      ],
      "metadata": {
        "id": "FTsBGtgWLBHu"
      },
      "execution_count": 1,
      "outputs": []
    },
    {
      "cell_type": "markdown",
      "source": [
        "#정삼각형\n",
        "\n",
        "**a=b=c** 정삼각"
      ],
      "metadata": {
        "id": "0vqRFzOzLi7-"
      }
    },
    {
      "cell_type": "code",
      "source": [
        "if a == b == c:\n",
        "  print(\"정삼각형\")\n",
        "else:\n",
        "  print(\"정삼각형 아님\")"
      ],
      "metadata": {
        "colab": {
          "base_uri": "https://localhost:8080/"
        },
        "id": "WwFS2Zy-L75t",
        "outputId": "15a7a122-967e-4114-a55c-174a97170036"
      },
      "execution_count": 2,
      "outputs": [
        {
          "output_type": "stream",
          "name": "stdout",
          "text": [
            "정삼각형 아님\n"
          ]
        }
      ]
    }
  ]
}