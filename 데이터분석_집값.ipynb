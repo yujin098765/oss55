{
  "nbformat": 4,
  "nbformat_minor": 0,
  "metadata": {
    "colab": {
      "provenance": [],
      "authorship_tag": "ABX9TyMw9IFaXi7TRQipNPzt6Iqa",
      "include_colab_link": true
    },
    "kernelspec": {
      "name": "python3",
      "display_name": "Python 3"
    },
    "language_info": {
      "name": "python"
    }
  },
  "cells": [
    {
      "cell_type": "markdown",
      "metadata": {
        "id": "view-in-github",
        "colab_type": "text"
      },
      "source": [
        "<a href=\"https://colab.research.google.com/github/yujin098765/oss55/blob/main/%EB%8D%B0%EC%9D%B4%ED%84%B0%EB%B6%84%EC%84%9D_%EC%A7%91%EA%B0%92.ipynb\" target=\"_parent\"><img src=\"https://colab.research.google.com/assets/colab-badge.svg\" alt=\"Open In Colab\"/></a>"
      ]
    },
    {
      "cell_type": "code",
      "source": [
        "# prompt: /content/sample_data/california_housing_test.csv  데이터로부터 평균 집값을 알고 평균집값예측 프로그램 작성해줘\n",
        "\n",
        "import pandas as pd\n",
        "from sklearn.model_selection import train_test_split\n",
        "from sklearn.linear_model import LinearRegression\n",
        "from sklearn.metrics import mean_squared_error\n",
        "\n",
        "# 데이터 로드\n",
        "data = pd.read_csv('/content/sample_data/california_housing_test.csv')\n",
        "\n",
        "# 특성(X)과 타겟(y) 분리\n",
        "X = data.drop('median_house_value', axis=1)\n",
        "y = data['median_house_value']\n",
        "\n",
        "# 데이터 분할\n",
        "X_train, X_test, y_train, y_test = train_test_split(X, y, test_size=0.2, random_state=42)\n",
        "\n",
        "# 모델 학습 (선형 회귀 모델 사용)\n",
        "model = LinearRegression()\n",
        "model.fit(X_train, y_train)\n",
        "\n",
        "# 평균 집값 계산\n",
        "average_house_value = data['median_house_value'].mean()\n",
        "print(f\"Average house value: {average_house_value}\")\n",
        "\n",
        "\n",
        "def predict_house_value(longitude, latitude, housing_median_age, total_rooms, total_bedrooms, population, households, median_income):\n",
        "    new_data = pd.DataFrame({\n",
        "        'longitude': [longitude],\n",
        "        'latitude': [latitude],\n",
        "        'housing_median_age': [housing_median_age],\n",
        "        'total_rooms': [total_rooms],\n",
        "        'total_bedrooms': [total_bedrooms],\n",
        "        'population': [population],\n",
        "        'households': [households],\n",
        "        'median_income': [median_income]\n",
        "    })\n",
        "    prediction = model.predict(new_data)\n",
        "    return prediction[0]\n",
        "\n",
        "# 예측 함수 사용 예시\n",
        "longitude = -118.24\n",
        "latitude = 34.05\n",
        "housing_median_age = 30.0\n",
        "total_rooms = 2000\n",
        "total_bedrooms = 400\n",
        "population = 1000\n",
        "households = 300\n",
        "median_income = 5.0\n",
        "\n",
        "predicted_value = predict_house_value(longitude, latitude, housing_median_age, total_rooms, total_bedrooms, population, households, median_income)\n",
        "\n",
        "print(f\"Predicted house value: {predicted_value}\")\n"
      ],
      "metadata": {
        "colab": {
          "base_uri": "https://localhost:8080/"
        },
        "id": "TiWxAYncNTs4",
        "outputId": "5d7767fe-a17d-46a6-b75c-7b59c2c248b0"
      },
      "execution_count": 3,
      "outputs": [
        {
          "output_type": "stream",
          "name": "stdout",
          "text": [
            "Average house value: 205846.275\n",
            "Predicted house value: 260900.08587853983\n"
          ]
        }
      ]
    },
    {
      "cell_type": "code",
      "source": [],
      "metadata": {
        "id": "vRtJqWkGLE9N"
      },
      "execution_count": null,
      "outputs": []
    }
  ]
}